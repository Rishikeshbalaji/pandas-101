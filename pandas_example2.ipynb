{
 "cells": [
  {
   "cell_type": "code",
   "execution_count": 2,
   "id": "e1235c0b-99db-44de-9cae-384ba0c97ab7",
   "metadata": {},
   "outputs": [],
   "source": [
    "import pandas as pd\n",
    "import numpy as np"
   ]
  },
  {
   "cell_type": "code",
   "execution_count": 3,
   "id": "46208016-13e7-4362-b82f-e07f6b7987a3",
   "metadata": {},
   "outputs": [
    {
     "data": {
      "text/html": [
       "<div>\n",
       "<style scoped>\n",
       "    .dataframe tbody tr th:only-of-type {\n",
       "        vertical-align: middle;\n",
       "    }\n",
       "\n",
       "    .dataframe tbody tr th {\n",
       "        vertical-align: top;\n",
       "    }\n",
       "\n",
       "    .dataframe thead th {\n",
       "        text-align: right;\n",
       "    }\n",
       "</style>\n",
       "<table border=\"1\" class=\"dataframe\">\n",
       "  <thead>\n",
       "    <tr style=\"text-align: right;\">\n",
       "      <th></th>\n",
       "      <th>name</th>\n",
       "      <th>age</th>\n",
       "      <th>sex</th>\n",
       "      <th>salary</th>\n",
       "    </tr>\n",
       "  </thead>\n",
       "  <tbody>\n",
       "    <tr>\n",
       "      <th>0</th>\n",
       "      <td>rishi</td>\n",
       "      <td>22</td>\n",
       "      <td>M</td>\n",
       "      <td>10000</td>\n",
       "    </tr>\n",
       "    <tr>\n",
       "      <th>1</th>\n",
       "      <td>maya</td>\n",
       "      <td>23</td>\n",
       "      <td>F</td>\n",
       "      <td>50000</td>\n",
       "    </tr>\n",
       "    <tr>\n",
       "      <th>2</th>\n",
       "      <td>honey</td>\n",
       "      <td>44</td>\n",
       "      <td>F</td>\n",
       "      <td>60000</td>\n",
       "    </tr>\n",
       "    <tr>\n",
       "      <th>3</th>\n",
       "      <td>vijay</td>\n",
       "      <td>54</td>\n",
       "      <td>M</td>\n",
       "      <td>30000</td>\n",
       "    </tr>\n",
       "    <tr>\n",
       "      <th>4</th>\n",
       "      <td>santhose</td>\n",
       "      <td>25</td>\n",
       "      <td>M</td>\n",
       "      <td>60000</td>\n",
       "    </tr>\n",
       "  </tbody>\n",
       "</table>\n",
       "</div>"
      ],
      "text/plain": [
       "       name  age sex  salary\n",
       "0     rishi   22   M   10000\n",
       "1      maya   23   F   50000\n",
       "2     honey   44   F   60000\n",
       "3     vijay   54   M   30000\n",
       "4  santhose   25   M   60000"
      ]
     },
     "execution_count": 3,
     "metadata": {},
     "output_type": "execute_result"
    }
   ],
   "source": [
    "#who is the yongest \n",
    "# who is the oldest\n",
    "# how many male and female are there \n",
    "# average age of female earning above 5000\n",
    "# average men earning who are grate\n",
    "df=pd.read_csv(\"example_csv.csv\")\n",
    "df"
   ]
  },
  {
   "cell_type": "code",
   "execution_count": 4,
   "id": "1980c3ff-f38d-4829-ac63-983775af141f",
   "metadata": {},
   "outputs": [],
   "source": [
    "a=df['age']"
   ]
  },
  {
   "cell_type": "code",
   "execution_count": 5,
   "id": "3440d7c6-1df9-4ae0-857f-73c0ae9ee47a",
   "metadata": {},
   "outputs": [
    {
     "data": {
      "text/plain": [
       "0    22\n",
       "1    23\n",
       "2    44\n",
       "3    54\n",
       "4    25\n",
       "Name: age, dtype: int64"
      ]
     },
     "execution_count": 5,
     "metadata": {},
     "output_type": "execute_result"
    }
   ],
   "source": [
    "a"
   ]
  },
  {
   "cell_type": "code",
   "execution_count": 12,
   "id": "18da3a4e-7c37-44cb-a1dd-4b925e67394a",
   "metadata": {},
   "outputs": [
    {
     "data": {
      "text/html": [
       "<div>\n",
       "<style scoped>\n",
       "    .dataframe tbody tr th:only-of-type {\n",
       "        vertical-align: middle;\n",
       "    }\n",
       "\n",
       "    .dataframe tbody tr th {\n",
       "        vertical-align: top;\n",
       "    }\n",
       "\n",
       "    .dataframe thead th {\n",
       "        text-align: right;\n",
       "    }\n",
       "</style>\n",
       "<table border=\"1\" class=\"dataframe\">\n",
       "  <thead>\n",
       "    <tr style=\"text-align: right;\">\n",
       "      <th></th>\n",
       "      <th>name</th>\n",
       "      <th>age</th>\n",
       "      <th>sex</th>\n",
       "      <th>salary</th>\n",
       "    </tr>\n",
       "  </thead>\n",
       "  <tbody>\n",
       "    <tr>\n",
       "      <th>3</th>\n",
       "      <td>vijay</td>\n",
       "      <td>54</td>\n",
       "      <td>M</td>\n",
       "      <td>30000</td>\n",
       "    </tr>\n",
       "  </tbody>\n",
       "</table>\n",
       "</div>"
      ],
      "text/plain": [
       "    name  age sex  salary\n",
       "3  vijay   54   M   30000"
      ]
     },
     "execution_count": 12,
     "metadata": {},
     "output_type": "execute_result"
    }
   ],
   "source": [
    "maxval=df['salary'].max()\n",
    "df[df['age']==df['age'].max()]"
   ]
  },
  {
   "cell_type": "code",
   "execution_count": 13,
   "id": "85adc4ba-8bf1-4a94-9bd8-c88b7e7db5b7",
   "metadata": {},
   "outputs": [
    {
     "data": {
      "text/plain": [
       "60000"
      ]
     },
     "execution_count": 13,
     "metadata": {},
     "output_type": "execute_result"
    }
   ],
   "source": [
    "maxval"
   ]
  },
  {
   "cell_type": "code",
   "execution_count": 14,
   "id": "ba026928-bf62-4be3-976b-d3fee0cc7fc1",
   "metadata": {},
   "outputs": [
    {
     "data": {
      "text/html": [
       "<div>\n",
       "<style scoped>\n",
       "    .dataframe tbody tr th:only-of-type {\n",
       "        vertical-align: middle;\n",
       "    }\n",
       "\n",
       "    .dataframe tbody tr th {\n",
       "        vertical-align: top;\n",
       "    }\n",
       "\n",
       "    .dataframe thead th {\n",
       "        text-align: right;\n",
       "    }\n",
       "</style>\n",
       "<table border=\"1\" class=\"dataframe\">\n",
       "  <thead>\n",
       "    <tr style=\"text-align: right;\">\n",
       "      <th></th>\n",
       "      <th>name</th>\n",
       "      <th>age</th>\n",
       "      <th>sex</th>\n",
       "      <th>salary</th>\n",
       "    </tr>\n",
       "  </thead>\n",
       "  <tbody>\n",
       "    <tr>\n",
       "      <th>0</th>\n",
       "      <td>rishi</td>\n",
       "      <td>22</td>\n",
       "      <td>M</td>\n",
       "      <td>10000</td>\n",
       "    </tr>\n",
       "  </tbody>\n",
       "</table>\n",
       "</div>"
      ],
      "text/plain": [
       "    name  age sex  salary\n",
       "0  rishi   22   M   10000"
      ]
     },
     "execution_count": 14,
     "metadata": {},
     "output_type": "execute_result"
    }
   ],
   "source": [
    "minval=df['age'].min()\n",
    "df[df['age']==df['age'].min()]"
   ]
  },
  {
   "cell_type": "code",
   "execution_count": 15,
   "id": "59882e46-22a3-4416-94e4-0a81af6e3349",
   "metadata": {},
   "outputs": [
    {
     "data": {
      "text/plain": [
       "22"
      ]
     },
     "execution_count": 15,
     "metadata": {},
     "output_type": "execute_result"
    }
   ],
   "source": [
    "minval"
   ]
  },
  {
   "cell_type": "code",
   "execution_count": 17,
   "id": "1b9727fc-d386-4610-b403-a54f14c1613c",
   "metadata": {},
   "outputs": [
    {
     "data": {
      "text/plain": [
       "2"
      ]
     },
     "execution_count": 18,
     "metadata": {},
     "output_type": "execute_result"
    }
   ],
   "source": [
    "female= df['sex'].value_counts()['F']\n",
    "female\n"
   ]
  },
  {
   "cell_type": "code",
   "execution_count": 21,
   "id": "3f19bbbb-fffe-4e9b-9adf-b0f775395509",
   "metadata": {},
   "outputs": [
    {
     "data": {
      "text/plain": [
       "sex  salary\n",
       "F    50000     50000.0\n",
       "     60000     60000.0\n",
       "M    10000     10000.0\n",
       "     30000     30000.0\n",
       "     60000     60000.0\n",
       "Name: salary, dtype: float64"
      ]
     },
     "execution_count": 21,
     "metadata": {},
     "output_type": "execute_result"
    }
   ],
   "source": [
    "df.groupby(['sex','salary']).salary.mean()"
   ]
  },
  {
   "cell_type": "code",
   "execution_count": 24,
   "id": "5ede52e5-1551-419e-9e4d-f95b55bab7e1",
   "metadata": {},
   "outputs": [
    {
     "data": {
      "text/plain": [
       "55000.0"
      ]
     },
     "execution_count": 24,
     "metadata": {},
     "output_type": "execute_result"
    }
   ],
   "source": [
    "df[df['sex']=='F']['salary'].mean()"
   ]
  },
  {
   "cell_type": "code",
   "execution_count": 25,
   "id": "42dc3500-ea4c-4f45-841d-88201a3e6df6",
   "metadata": {},
   "outputs": [
    {
     "data": {
      "text/plain": [
       "44.0"
      ]
     },
     "execution_count": 25,
     "metadata": {},
     "output_type": "execute_result"
    }
   ],
   "source": [
    "df2 = df[df['sex']=='F']\n",
    "df3 = df2[df2['salary']>50000]\n",
    "df3['age'].mean()"
   ]
  },
  {
   "cell_type": "code",
   "execution_count": 26,
   "id": "5c101c1f-df1f-458b-b3a8-c62456b0d3fa",
   "metadata": {},
   "outputs": [],
   "source": [
    "\n",
    "# 1. Filter the data where\n",
    "# Either names start from \"S\" or end with \"y\" and tell me their median age.\n",
    "\n",
    "\n",
    "\n",
    "# 2. Let's assume this is monthly salary,\n",
    "# Male - 2L by year end\n",
    "# Female - 1.5L by year end\n",
    "# Calculate the CTC for all these empoyees.\n",
    "\n",
    "\n",
    "\n",
    "# 3. Based on CTC, who earns the maximum who are in their 20s.\n",
    "# 4. mean CTC for male and female in their 20s.\n"
   ]
  },
  {
   "cell_type": "code",
   "execution_count": 31,
   "id": "d0d33348-8d14-4f5b-9d16-393851365a6d",
   "metadata": {},
   "outputs": [
    {
     "name": "stdout",
     "output_type": "stream",
     "text": [
      "22.0\n"
     ]
    }
   ],
   "source": [
    "# 1. Filter the data where\n",
    "# Either names start from \"S\" or end with \"y\" and tell me their median age.\n",
    "print(df[df['name'].str.startswith('r') & df['name'].str.endswith('i')]['age'].median())"
   ]
  },
  {
   "cell_type": "code",
   "execution_count": 37,
   "id": "b95496cc-2433-4086-b111-c3c1e49a2b7c",
   "metadata": {},
   "outputs": [
    {
     "data": {
      "text/html": [
       "<div>\n",
       "<style scoped>\n",
       "    .dataframe tbody tr th:only-of-type {\n",
       "        vertical-align: middle;\n",
       "    }\n",
       "\n",
       "    .dataframe tbody tr th {\n",
       "        vertical-align: top;\n",
       "    }\n",
       "\n",
       "    .dataframe thead th {\n",
       "        text-align: right;\n",
       "    }\n",
       "</style>\n",
       "<table border=\"1\" class=\"dataframe\">\n",
       "  <thead>\n",
       "    <tr style=\"text-align: right;\">\n",
       "      <th></th>\n",
       "      <th>name</th>\n",
       "      <th>age</th>\n",
       "      <th>sex</th>\n",
       "      <th>salary</th>\n",
       "    </tr>\n",
       "  </thead>\n",
       "  <tbody>\n",
       "    <tr>\n",
       "      <th>0</th>\n",
       "      <td>rishi</td>\n",
       "      <td>22</td>\n",
       "      <td>M</td>\n",
       "      <td>10000</td>\n",
       "    </tr>\n",
       "  </tbody>\n",
       "</table>\n",
       "</div>"
      ],
      "text/plain": [
       "    name  age sex  salary\n",
       "0  rishi   22   M   10000"
      ]
     },
     "execution_count": 37,
     "metadata": {},
     "output_type": "execute_result"
    }
   ],
   "source": [
    "# namee starting with r\n",
    "df[df['name'].str.startswith('r')]"
   ]
  },
  {
   "cell_type": "code",
   "execution_count": 68,
   "id": "f42fe2d5-4024-4f76-81e1-d971dc7a5de7",
   "metadata": {},
   "outputs": [
    {
     "data": {
      "text/html": [
       "<div>\n",
       "<style scoped>\n",
       "    .dataframe tbody tr th:only-of-type {\n",
       "        vertical-align: middle;\n",
       "    }\n",
       "\n",
       "    .dataframe tbody tr th {\n",
       "        vertical-align: top;\n",
       "    }\n",
       "\n",
       "    .dataframe thead th {\n",
       "        text-align: right;\n",
       "    }\n",
       "</style>\n",
       "<table border=\"1\" class=\"dataframe\">\n",
       "  <thead>\n",
       "    <tr style=\"text-align: right;\">\n",
       "      <th></th>\n",
       "      <th>name</th>\n",
       "      <th>age</th>\n",
       "      <th>sex</th>\n",
       "      <th>salary</th>\n",
       "      <th>ctc</th>\n",
       "      <th>ctc2</th>\n",
       "      <th>ctc1</th>\n",
       "    </tr>\n",
       "  </thead>\n",
       "  <tbody>\n",
       "    <tr>\n",
       "      <th>2</th>\n",
       "      <td>honey</td>\n",
       "      <td>44</td>\n",
       "      <td>F</td>\n",
       "      <td>60000</td>\n",
       "      <td>920000</td>\n",
       "      <td>870000.0</td>\n",
       "      <td>NaN</td>\n",
       "    </tr>\n",
       "    <tr>\n",
       "      <th>3</th>\n",
       "      <td>vijay</td>\n",
       "      <td>54</td>\n",
       "      <td>M</td>\n",
       "      <td>30000</td>\n",
       "      <td>560000</td>\n",
       "      <td>NaN</td>\n",
       "      <td>560000.0</td>\n",
       "    </tr>\n",
       "  </tbody>\n",
       "</table>\n",
       "</div>"
      ],
      "text/plain": [
       "    name  age sex  salary     ctc      ctc2      ctc1\n",
       "2  honey   44   F   60000  920000  870000.0       NaN\n",
       "3  vijay   54   M   30000  560000       NaN  560000.0"
      ]
     },
     "execution_count": 68,
     "metadata": {},
     "output_type": "execute_result"
    }
   ],
   "source": [
    "# name ending with y \n",
    "df[df['name'].str.endswith('y')]"
   ]
  },
  {
   "cell_type": "code",
   "execution_count": 69,
   "id": "81497abd-c54e-4b49-84be-d7e1ecc3798c",
   "metadata": {},
   "outputs": [],
   "source": [
    "# Based on CTC, who earns the maximum who are in their 20s\n",
    "df[\"ctc2\"]=12*df[df['sex']=='F']['salary']+150000\n",
    "df[\"ctc1\"]=12*df[df['sex']=='M']['salary']+200000"
   ]
  },
  {
   "cell_type": "code",
   "execution_count": 70,
   "id": "1b3320c5-5d5e-4eca-a98b-ccc2d489aaf7",
   "metadata": {},
   "outputs": [
    {
     "data": {
      "text/html": [
       "<div>\n",
       "<style scoped>\n",
       "    .dataframe tbody tr th:only-of-type {\n",
       "        vertical-align: middle;\n",
       "    }\n",
       "\n",
       "    .dataframe tbody tr th {\n",
       "        vertical-align: top;\n",
       "    }\n",
       "\n",
       "    .dataframe thead th {\n",
       "        text-align: right;\n",
       "    }\n",
       "</style>\n",
       "<table border=\"1\" class=\"dataframe\">\n",
       "  <thead>\n",
       "    <tr style=\"text-align: right;\">\n",
       "      <th></th>\n",
       "      <th>name</th>\n",
       "      <th>age</th>\n",
       "      <th>sex</th>\n",
       "      <th>salary</th>\n",
       "      <th>ctc</th>\n",
       "      <th>ctc2</th>\n",
       "      <th>ctc1</th>\n",
       "    </tr>\n",
       "  </thead>\n",
       "  <tbody>\n",
       "    <tr>\n",
       "      <th>0</th>\n",
       "      <td>rishi</td>\n",
       "      <td>22</td>\n",
       "      <td>M</td>\n",
       "      <td>10000</td>\n",
       "      <td>320000</td>\n",
       "      <td>NaN</td>\n",
       "      <td>320000.0</td>\n",
       "    </tr>\n",
       "    <tr>\n",
       "      <th>1</th>\n",
       "      <td>maya</td>\n",
       "      <td>23</td>\n",
       "      <td>F</td>\n",
       "      <td>50000</td>\n",
       "      <td>800000</td>\n",
       "      <td>750000.0</td>\n",
       "      <td>NaN</td>\n",
       "    </tr>\n",
       "    <tr>\n",
       "      <th>2</th>\n",
       "      <td>honey</td>\n",
       "      <td>44</td>\n",
       "      <td>F</td>\n",
       "      <td>60000</td>\n",
       "      <td>920000</td>\n",
       "      <td>870000.0</td>\n",
       "      <td>NaN</td>\n",
       "    </tr>\n",
       "    <tr>\n",
       "      <th>3</th>\n",
       "      <td>vijay</td>\n",
       "      <td>54</td>\n",
       "      <td>M</td>\n",
       "      <td>30000</td>\n",
       "      <td>560000</td>\n",
       "      <td>NaN</td>\n",
       "      <td>560000.0</td>\n",
       "    </tr>\n",
       "    <tr>\n",
       "      <th>4</th>\n",
       "      <td>santhose</td>\n",
       "      <td>25</td>\n",
       "      <td>M</td>\n",
       "      <td>60000</td>\n",
       "      <td>920000</td>\n",
       "      <td>NaN</td>\n",
       "      <td>920000.0</td>\n",
       "    </tr>\n",
       "  </tbody>\n",
       "</table>\n",
       "</div>"
      ],
      "text/plain": [
       "       name  age sex  salary     ctc      ctc2      ctc1\n",
       "0     rishi   22   M   10000  320000       NaN  320000.0\n",
       "1      maya   23   F   50000  800000  750000.0       NaN\n",
       "2     honey   44   F   60000  920000  870000.0       NaN\n",
       "3     vijay   54   M   30000  560000       NaN  560000.0\n",
       "4  santhose   25   M   60000  920000       NaN  920000.0"
      ]
     },
     "execution_count": 70,
     "metadata": {},
     "output_type": "execute_result"
    }
   ],
   "source": [
    "df"
   ]
  },
  {
   "cell_type": "code",
   "execution_count": 76,
   "id": "df573ceb-bb9c-403b-a230-a9efbebecfed",
   "metadata": {},
   "outputs": [
    {
     "data": {
      "text/html": [
       "<div>\n",
       "<style scoped>\n",
       "    .dataframe tbody tr th:only-of-type {\n",
       "        vertical-align: middle;\n",
       "    }\n",
       "\n",
       "    .dataframe tbody tr th {\n",
       "        vertical-align: top;\n",
       "    }\n",
       "\n",
       "    .dataframe thead th {\n",
       "        text-align: right;\n",
       "    }\n",
       "</style>\n",
       "<table border=\"1\" class=\"dataframe\">\n",
       "  <thead>\n",
       "    <tr style=\"text-align: right;\">\n",
       "      <th></th>\n",
       "      <th>name</th>\n",
       "      <th>age</th>\n",
       "      <th>sex</th>\n",
       "      <th>salary</th>\n",
       "      <th>ctc</th>\n",
       "      <th>ctc2</th>\n",
       "      <th>ctc1</th>\n",
       "    </tr>\n",
       "  </thead>\n",
       "  <tbody>\n",
       "    <tr>\n",
       "      <th>0</th>\n",
       "      <td>rishi</td>\n",
       "      <td>22</td>\n",
       "      <td>M</td>\n",
       "      <td>10000</td>\n",
       "      <td>320000</td>\n",
       "      <td>NaN</td>\n",
       "      <td>320000.0</td>\n",
       "    </tr>\n",
       "    <tr>\n",
       "      <th>3</th>\n",
       "      <td>vijay</td>\n",
       "      <td>54</td>\n",
       "      <td>M</td>\n",
       "      <td>30000</td>\n",
       "      <td>560000</td>\n",
       "      <td>NaN</td>\n",
       "      <td>560000.0</td>\n",
       "    </tr>\n",
       "    <tr>\n",
       "      <th>4</th>\n",
       "      <td>santhose</td>\n",
       "      <td>25</td>\n",
       "      <td>M</td>\n",
       "      <td>60000</td>\n",
       "      <td>920000</td>\n",
       "      <td>NaN</td>\n",
       "      <td>920000.0</td>\n",
       "    </tr>\n",
       "  </tbody>\n",
       "</table>\n",
       "</div>"
      ],
      "text/plain": [
       "       name  age sex  salary     ctc  ctc2      ctc1\n",
       "0     rishi   22   M   10000  320000   NaN  320000.0\n",
       "3     vijay   54   M   30000  560000   NaN  560000.0\n",
       "4  santhose   25   M   60000  920000   NaN  920000.0"
      ]
     },
     "execution_count": 76,
     "metadata": {},
     "output_type": "execute_result"
    }
   ],
   "source": [
    "def check_rows(row):\n",
    "    return ((row['age']>20) and (row['sex'] =='M'))#use ==20 to get the age as 20\n",
    "df[df.apply(check_rows,axis=1)]"
   ]
  },
  {
   "cell_type": "code",
   "execution_count": 63,
   "id": "1bf0610a-4302-440d-b771-d79d5e03c9ae",
   "metadata": {},
   "outputs": [],
   "source": []
  },
  {
   "cell_type": "code",
   "execution_count": 59,
   "id": "fbd41ca8-8b52-47d1-be4e-27b01108ac6e",
   "metadata": {},
   "outputs": [
    {
     "data": {
      "text/html": [
       "<div>\n",
       "<style scoped>\n",
       "    .dataframe tbody tr th:only-of-type {\n",
       "        vertical-align: middle;\n",
       "    }\n",
       "\n",
       "    .dataframe tbody tr th {\n",
       "        vertical-align: top;\n",
       "    }\n",
       "\n",
       "    .dataframe thead th {\n",
       "        text-align: right;\n",
       "    }\n",
       "</style>\n",
       "<table border=\"1\" class=\"dataframe\">\n",
       "  <thead>\n",
       "    <tr style=\"text-align: right;\">\n",
       "      <th></th>\n",
       "      <th>name</th>\n",
       "      <th>age</th>\n",
       "      <th>sex</th>\n",
       "      <th>salary</th>\n",
       "      <th>ctc</th>\n",
       "    </tr>\n",
       "  </thead>\n",
       "  <tbody>\n",
       "    <tr>\n",
       "      <th>0</th>\n",
       "      <td>rishi</td>\n",
       "      <td>22</td>\n",
       "      <td>M</td>\n",
       "      <td>10000</td>\n",
       "      <td>320000</td>\n",
       "    </tr>\n",
       "    <tr>\n",
       "      <th>1</th>\n",
       "      <td>maya</td>\n",
       "      <td>23</td>\n",
       "      <td>F</td>\n",
       "      <td>50000</td>\n",
       "      <td>800000</td>\n",
       "    </tr>\n",
       "    <tr>\n",
       "      <th>2</th>\n",
       "      <td>honey</td>\n",
       "      <td>44</td>\n",
       "      <td>F</td>\n",
       "      <td>60000</td>\n",
       "      <td>920000</td>\n",
       "    </tr>\n",
       "    <tr>\n",
       "      <th>3</th>\n",
       "      <td>vijay</td>\n",
       "      <td>54</td>\n",
       "      <td>M</td>\n",
       "      <td>30000</td>\n",
       "      <td>560000</td>\n",
       "    </tr>\n",
       "    <tr>\n",
       "      <th>4</th>\n",
       "      <td>santhose</td>\n",
       "      <td>25</td>\n",
       "      <td>M</td>\n",
       "      <td>60000</td>\n",
       "      <td>920000</td>\n",
       "    </tr>\n",
       "  </tbody>\n",
       "</table>\n",
       "</div>"
      ],
      "text/plain": [
       "       name  age sex  salary     ctc\n",
       "0     rishi   22   M   10000  320000\n",
       "1      maya   23   F   50000  800000\n",
       "2     honey   44   F   60000  920000\n",
       "3     vijay   54   M   30000  560000\n",
       "4  santhose   25   M   60000  920000"
      ]
     },
     "execution_count": 59,
     "metadata": {},
     "output_type": "execute_result"
    }
   ],
   "source": []
  },
  {
   "cell_type": "code",
   "execution_count": 60,
   "id": "b8ddd61b-9bbe-41d1-bc4c-54459603bd71",
   "metadata": {},
   "outputs": [
    {
     "data": {
      "text/html": [
       "<div>\n",
       "<style scoped>\n",
       "    .dataframe tbody tr th:only-of-type {\n",
       "        vertical-align: middle;\n",
       "    }\n",
       "\n",
       "    .dataframe tbody tr th {\n",
       "        vertical-align: top;\n",
       "    }\n",
       "\n",
       "    .dataframe thead th {\n",
       "        text-align: right;\n",
       "    }\n",
       "</style>\n",
       "<table border=\"1\" class=\"dataframe\">\n",
       "  <thead>\n",
       "    <tr style=\"text-align: right;\">\n",
       "      <th></th>\n",
       "      <th>name</th>\n",
       "      <th>age</th>\n",
       "      <th>sex</th>\n",
       "      <th>salary</th>\n",
       "      <th>ctc</th>\n",
       "    </tr>\n",
       "  </thead>\n",
       "  <tbody>\n",
       "    <tr>\n",
       "      <th>1</th>\n",
       "      <td>maya</td>\n",
       "      <td>23</td>\n",
       "      <td>F</td>\n",
       "      <td>50000</td>\n",
       "      <td>800000</td>\n",
       "    </tr>\n",
       "    <tr>\n",
       "      <th>2</th>\n",
       "      <td>honey</td>\n",
       "      <td>44</td>\n",
       "      <td>F</td>\n",
       "      <td>60000</td>\n",
       "      <td>920000</td>\n",
       "    </tr>\n",
       "  </tbody>\n",
       "</table>\n",
       "</div>"
      ],
      "text/plain": [
       "    name  age sex  salary     ctc\n",
       "1   maya   23   F   50000  800000\n",
       "2  honey   44   F   60000  920000"
      ]
     },
     "execution_count": 60,
     "metadata": {},
     "output_type": "execute_result"
    }
   ],
   "source": [
    "def check_rows(row):\n",
    "    return ((row['age']>20) and (row['sex'] =='F'))#use ==20 to get the age as 20\n",
    "df[df.apply(check_rows,axis=1)]"
   ]
  },
  {
   "cell_type": "code",
   "execution_count": 74,
   "id": "195398c8-a9cc-4ac4-b506-5b5a764378f3",
   "metadata": {},
   "outputs": [
    {
     "data": {
      "text/html": [
       "<div>\n",
       "<style scoped>\n",
       "    .dataframe tbody tr th:only-of-type {\n",
       "        vertical-align: middle;\n",
       "    }\n",
       "\n",
       "    .dataframe tbody tr th {\n",
       "        vertical-align: top;\n",
       "    }\n",
       "\n",
       "    .dataframe thead th {\n",
       "        text-align: right;\n",
       "    }\n",
       "</style>\n",
       "<table border=\"1\" class=\"dataframe\">\n",
       "  <thead>\n",
       "    <tr style=\"text-align: right;\">\n",
       "      <th></th>\n",
       "      <th>name</th>\n",
       "      <th>age</th>\n",
       "      <th>sex</th>\n",
       "      <th>salary</th>\n",
       "      <th>ctc</th>\n",
       "      <th>ctc2</th>\n",
       "      <th>ctc1</th>\n",
       "    </tr>\n",
       "  </thead>\n",
       "  <tbody>\n",
       "    <tr>\n",
       "      <th>0</th>\n",
       "      <td>rishi</td>\n",
       "      <td>22</td>\n",
       "      <td>M</td>\n",
       "      <td>10000</td>\n",
       "      <td>320000</td>\n",
       "      <td>NaN</td>\n",
       "      <td>320000.0</td>\n",
       "    </tr>\n",
       "    <tr>\n",
       "      <th>1</th>\n",
       "      <td>maya</td>\n",
       "      <td>23</td>\n",
       "      <td>F</td>\n",
       "      <td>50000</td>\n",
       "      <td>800000</td>\n",
       "      <td>750000.0</td>\n",
       "      <td>NaN</td>\n",
       "    </tr>\n",
       "    <tr>\n",
       "      <th>2</th>\n",
       "      <td>honey</td>\n",
       "      <td>44</td>\n",
       "      <td>F</td>\n",
       "      <td>60000</td>\n",
       "      <td>920000</td>\n",
       "      <td>870000.0</td>\n",
       "      <td>NaN</td>\n",
       "    </tr>\n",
       "    <tr>\n",
       "      <th>3</th>\n",
       "      <td>vijay</td>\n",
       "      <td>54</td>\n",
       "      <td>M</td>\n",
       "      <td>30000</td>\n",
       "      <td>560000</td>\n",
       "      <td>NaN</td>\n",
       "      <td>560000.0</td>\n",
       "    </tr>\n",
       "    <tr>\n",
       "      <th>4</th>\n",
       "      <td>santhose</td>\n",
       "      <td>25</td>\n",
       "      <td>M</td>\n",
       "      <td>60000</td>\n",
       "      <td>920000</td>\n",
       "      <td>NaN</td>\n",
       "      <td>920000.0</td>\n",
       "    </tr>\n",
       "  </tbody>\n",
       "</table>\n",
       "</div>"
      ],
      "text/plain": [
       "       name  age sex  salary     ctc      ctc2      ctc1\n",
       "0     rishi   22   M   10000  320000       NaN  320000.0\n",
       "1      maya   23   F   50000  800000  750000.0       NaN\n",
       "2     honey   44   F   60000  920000  870000.0       NaN\n",
       "3     vijay   54   M   30000  560000       NaN  560000.0\n",
       "4  santhose   25   M   60000  920000       NaN  920000.0"
      ]
     },
     "execution_count": 74,
     "metadata": {},
     "output_type": "execute_result"
    }
   ],
   "source": [
    "# max of ctc\n",
    "df1=df[(df['age']>=20)&(df['age']<30)]\n",
    "df"
   ]
  },
  {
   "cell_type": "code",
   "execution_count": null,
   "id": "e984ff07-58ee-48da-bec0-9f65eaf68f21",
   "metadata": {},
   "outputs": [],
   "source": []
  }
 ],
 "metadata": {
  "kernelspec": {
   "display_name": "Python 3 (ipykernel)",
   "language": "python",
   "name": "python3"
  },
  "language_info": {
   "codemirror_mode": {
    "name": "ipython",
    "version": 3
   },
   "file_extension": ".py",
   "mimetype": "text/x-python",
   "name": "python",
   "nbconvert_exporter": "python",
   "pygments_lexer": "ipython3",
   "version": "3.9.7"
  }
 },
 "nbformat": 4,
 "nbformat_minor": 5
}
